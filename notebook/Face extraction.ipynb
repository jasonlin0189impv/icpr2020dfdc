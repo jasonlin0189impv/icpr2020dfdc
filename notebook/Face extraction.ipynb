{
 "cells": [
  {
   "cell_type": "code",
   "execution_count": 1,
   "metadata": {},
   "outputs": [],
   "source": [
    "from PIL import Image\n",
    "\n",
    "import sys\n",
    "sys.path.append('..')\n",
    "\n",
    "from blazeface import FaceExtractor, BlazeFace\n",
    "\n",
    "import torch\n",
    "from tqdm import tqdm\n",
    "\n",
    "from pathlib import Path"
   ]
  },
  {
   "cell_type": "code",
   "execution_count": null,
   "metadata": {},
   "outputs": [],
   "source": [
    "device = torch.device('cuda:0') if torch.cuda.is_available() else torch.device('cpu')\n",
    "facedet = BlazeFace().to(device)\n",
    "facedet.load_weights(\"../blazeface/blazeface.pth\")\n",
    "facedet.load_anchors(\"../blazeface/anchors.npy\")\n",
    "face_extractor = FaceExtractor(facedet=facedet)\n",
    "\n",
    "origin_path = Path('/Users/ethan_c_lin/Downloads/messi_origin_images/')\n",
    "extract_path = Path('/Users/ethan_c_lin/Downloads/messi_face_images/')\n",
    "\n",
    "for idx, name in tqdm(enumerate(Path(origin_path).glob('**/*'))):\n",
    "    if name.is_file() and str(name).endswith('jpeg'): \n",
    "        image = Image.open(origin_path / name)\n",
    "        ext_face = face_extractor.process_image(img=image)\n",
    "        try:\n",
    "            ext_face_array = ext_face['faces'][0]\n",
    "            ext_face = Image.fromarray(ext_face_array)\n",
    "            ext_face.save(extract_path / f\"messi_{idx}.jpeg\")\n",
    "\n",
    "            # new_image = ext_face.resize((64,64))\n",
    "            # new_image.save(extract_path / name)\n",
    "            \n",
    "        except:\n",
    "            print(ext_face)    "
   ]
  }
 ],
 "metadata": {
  "kernelspec": {
   "display_name": "Python 3.8.15 ('deepfake')",
   "language": "python",
   "name": "python3"
  },
  "language_info": {
   "codemirror_mode": {
    "name": "ipython",
    "version": 3
   },
   "file_extension": ".py",
   "mimetype": "text/x-python",
   "name": "python",
   "nbconvert_exporter": "python",
   "pygments_lexer": "ipython3",
   "version": "3.8.15"
  },
  "orig_nbformat": 4,
  "vscode": {
   "interpreter": {
    "hash": "10858573f005c67998917b6b63435a4442d5f1a50a55f22e087c769779acdd16"
   }
  }
 },
 "nbformat": 4,
 "nbformat_minor": 2
}
